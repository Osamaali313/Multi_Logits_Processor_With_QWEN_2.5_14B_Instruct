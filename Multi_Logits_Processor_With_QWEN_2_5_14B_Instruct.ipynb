{
  "nbformat": 4,
  "nbformat_minor": 0,
  "metadata": {
    "colab": {
      "provenance": [],
      "machine_shape": "hm",
      "gpuType": "A100"
    },
    "kernelspec": {
      "name": "python3",
      "display_name": "Python 3"
    },
    "language_info": {
      "name": "python"
    },
    "accelerator": "GPU",
    "widgets": {
      "application/vnd.jupyter.widget-state+json": {
        "e94b56aa6e5d4eb6a7f3cb09a0a37fc2": {
          "model_module": "@jupyter-widgets/controls",
          "model_name": "HBoxModel",
          "model_module_version": "1.5.0",
          "state": {
            "_dom_classes": [],
            "_model_module": "@jupyter-widgets/controls",
            "_model_module_version": "1.5.0",
            "_model_name": "HBoxModel",
            "_view_count": null,
            "_view_module": "@jupyter-widgets/controls",
            "_view_module_version": "1.5.0",
            "_view_name": "HBoxView",
            "box_style": "",
            "children": [
              "IPY_MODEL_886b746282f44f72b326fdbb5246c1eb",
              "IPY_MODEL_95ee2e07fbda444fb23ac33397b680aa",
              "IPY_MODEL_9756e56aaf4741efbda0006ef5b4e06d"
            ],
            "layout": "IPY_MODEL_a77a244fe94c409dbde57d68e1e029f6"
          }
        },
        "886b746282f44f72b326fdbb5246c1eb": {
          "model_module": "@jupyter-widgets/controls",
          "model_name": "HTMLModel",
          "model_module_version": "1.5.0",
          "state": {
            "_dom_classes": [],
            "_model_module": "@jupyter-widgets/controls",
            "_model_module_version": "1.5.0",
            "_model_name": "HTMLModel",
            "_view_count": null,
            "_view_module": "@jupyter-widgets/controls",
            "_view_module_version": "1.5.0",
            "_view_name": "HTMLView",
            "description": "",
            "description_tooltip": null,
            "layout": "IPY_MODEL_f2e35c3e08cb4637ba3011d71cc2bb4f",
            "placeholder": "​",
            "style": "IPY_MODEL_3572fcc022ae41cf9f30f4a974b399d9",
            "value": "Loading checkpoint shards: 100%"
          }
        },
        "95ee2e07fbda444fb23ac33397b680aa": {
          "model_module": "@jupyter-widgets/controls",
          "model_name": "FloatProgressModel",
          "model_module_version": "1.5.0",
          "state": {
            "_dom_classes": [],
            "_model_module": "@jupyter-widgets/controls",
            "_model_module_version": "1.5.0",
            "_model_name": "FloatProgressModel",
            "_view_count": null,
            "_view_module": "@jupyter-widgets/controls",
            "_view_module_version": "1.5.0",
            "_view_name": "ProgressView",
            "bar_style": "success",
            "description": "",
            "description_tooltip": null,
            "layout": "IPY_MODEL_00946978c70540aa9f913222c847ec08",
            "max": 8,
            "min": 0,
            "orientation": "horizontal",
            "style": "IPY_MODEL_b3ba6fab4b204db38a206c14e3c03473",
            "value": 8
          }
        },
        "9756e56aaf4741efbda0006ef5b4e06d": {
          "model_module": "@jupyter-widgets/controls",
          "model_name": "HTMLModel",
          "model_module_version": "1.5.0",
          "state": {
            "_dom_classes": [],
            "_model_module": "@jupyter-widgets/controls",
            "_model_module_version": "1.5.0",
            "_model_name": "HTMLModel",
            "_view_count": null,
            "_view_module": "@jupyter-widgets/controls",
            "_view_module_version": "1.5.0",
            "_view_name": "HTMLView",
            "description": "",
            "description_tooltip": null,
            "layout": "IPY_MODEL_67321327388b4358ae0c5197fc2486ab",
            "placeholder": "​",
            "style": "IPY_MODEL_8452f320136d48ebac0afc1ab0847c54",
            "value": " 8/8 [00:17&lt;00:00,  1.94s/it]"
          }
        },
        "a77a244fe94c409dbde57d68e1e029f6": {
          "model_module": "@jupyter-widgets/base",
          "model_name": "LayoutModel",
          "model_module_version": "1.2.0",
          "state": {
            "_model_module": "@jupyter-widgets/base",
            "_model_module_version": "1.2.0",
            "_model_name": "LayoutModel",
            "_view_count": null,
            "_view_module": "@jupyter-widgets/base",
            "_view_module_version": "1.2.0",
            "_view_name": "LayoutView",
            "align_content": null,
            "align_items": null,
            "align_self": null,
            "border": null,
            "bottom": null,
            "display": null,
            "flex": null,
            "flex_flow": null,
            "grid_area": null,
            "grid_auto_columns": null,
            "grid_auto_flow": null,
            "grid_auto_rows": null,
            "grid_column": null,
            "grid_gap": null,
            "grid_row": null,
            "grid_template_areas": null,
            "grid_template_columns": null,
            "grid_template_rows": null,
            "height": null,
            "justify_content": null,
            "justify_items": null,
            "left": null,
            "margin": null,
            "max_height": null,
            "max_width": null,
            "min_height": null,
            "min_width": null,
            "object_fit": null,
            "object_position": null,
            "order": null,
            "overflow": null,
            "overflow_x": null,
            "overflow_y": null,
            "padding": null,
            "right": null,
            "top": null,
            "visibility": null,
            "width": null
          }
        },
        "f2e35c3e08cb4637ba3011d71cc2bb4f": {
          "model_module": "@jupyter-widgets/base",
          "model_name": "LayoutModel",
          "model_module_version": "1.2.0",
          "state": {
            "_model_module": "@jupyter-widgets/base",
            "_model_module_version": "1.2.0",
            "_model_name": "LayoutModel",
            "_view_count": null,
            "_view_module": "@jupyter-widgets/base",
            "_view_module_version": "1.2.0",
            "_view_name": "LayoutView",
            "align_content": null,
            "align_items": null,
            "align_self": null,
            "border": null,
            "bottom": null,
            "display": null,
            "flex": null,
            "flex_flow": null,
            "grid_area": null,
            "grid_auto_columns": null,
            "grid_auto_flow": null,
            "grid_auto_rows": null,
            "grid_column": null,
            "grid_gap": null,
            "grid_row": null,
            "grid_template_areas": null,
            "grid_template_columns": null,
            "grid_template_rows": null,
            "height": null,
            "justify_content": null,
            "justify_items": null,
            "left": null,
            "margin": null,
            "max_height": null,
            "max_width": null,
            "min_height": null,
            "min_width": null,
            "object_fit": null,
            "object_position": null,
            "order": null,
            "overflow": null,
            "overflow_x": null,
            "overflow_y": null,
            "padding": null,
            "right": null,
            "top": null,
            "visibility": null,
            "width": null
          }
        },
        "3572fcc022ae41cf9f30f4a974b399d9": {
          "model_module": "@jupyter-widgets/controls",
          "model_name": "DescriptionStyleModel",
          "model_module_version": "1.5.0",
          "state": {
            "_model_module": "@jupyter-widgets/controls",
            "_model_module_version": "1.5.0",
            "_model_name": "DescriptionStyleModel",
            "_view_count": null,
            "_view_module": "@jupyter-widgets/base",
            "_view_module_version": "1.2.0",
            "_view_name": "StyleView",
            "description_width": ""
          }
        },
        "00946978c70540aa9f913222c847ec08": {
          "model_module": "@jupyter-widgets/base",
          "model_name": "LayoutModel",
          "model_module_version": "1.2.0",
          "state": {
            "_model_module": "@jupyter-widgets/base",
            "_model_module_version": "1.2.0",
            "_model_name": "LayoutModel",
            "_view_count": null,
            "_view_module": "@jupyter-widgets/base",
            "_view_module_version": "1.2.0",
            "_view_name": "LayoutView",
            "align_content": null,
            "align_items": null,
            "align_self": null,
            "border": null,
            "bottom": null,
            "display": null,
            "flex": null,
            "flex_flow": null,
            "grid_area": null,
            "grid_auto_columns": null,
            "grid_auto_flow": null,
            "grid_auto_rows": null,
            "grid_column": null,
            "grid_gap": null,
            "grid_row": null,
            "grid_template_areas": null,
            "grid_template_columns": null,
            "grid_template_rows": null,
            "height": null,
            "justify_content": null,
            "justify_items": null,
            "left": null,
            "margin": null,
            "max_height": null,
            "max_width": null,
            "min_height": null,
            "min_width": null,
            "object_fit": null,
            "object_position": null,
            "order": null,
            "overflow": null,
            "overflow_x": null,
            "overflow_y": null,
            "padding": null,
            "right": null,
            "top": null,
            "visibility": null,
            "width": null
          }
        },
        "b3ba6fab4b204db38a206c14e3c03473": {
          "model_module": "@jupyter-widgets/controls",
          "model_name": "ProgressStyleModel",
          "model_module_version": "1.5.0",
          "state": {
            "_model_module": "@jupyter-widgets/controls",
            "_model_module_version": "1.5.0",
            "_model_name": "ProgressStyleModel",
            "_view_count": null,
            "_view_module": "@jupyter-widgets/base",
            "_view_module_version": "1.2.0",
            "_view_name": "StyleView",
            "bar_color": null,
            "description_width": ""
          }
        },
        "67321327388b4358ae0c5197fc2486ab": {
          "model_module": "@jupyter-widgets/base",
          "model_name": "LayoutModel",
          "model_module_version": "1.2.0",
          "state": {
            "_model_module": "@jupyter-widgets/base",
            "_model_module_version": "1.2.0",
            "_model_name": "LayoutModel",
            "_view_count": null,
            "_view_module": "@jupyter-widgets/base",
            "_view_module_version": "1.2.0",
            "_view_name": "LayoutView",
            "align_content": null,
            "align_items": null,
            "align_self": null,
            "border": null,
            "bottom": null,
            "display": null,
            "flex": null,
            "flex_flow": null,
            "grid_area": null,
            "grid_auto_columns": null,
            "grid_auto_flow": null,
            "grid_auto_rows": null,
            "grid_column": null,
            "grid_gap": null,
            "grid_row": null,
            "grid_template_areas": null,
            "grid_template_columns": null,
            "grid_template_rows": null,
            "height": null,
            "justify_content": null,
            "justify_items": null,
            "left": null,
            "margin": null,
            "max_height": null,
            "max_width": null,
            "min_height": null,
            "min_width": null,
            "object_fit": null,
            "object_position": null,
            "order": null,
            "overflow": null,
            "overflow_x": null,
            "overflow_y": null,
            "padding": null,
            "right": null,
            "top": null,
            "visibility": null,
            "width": null
          }
        },
        "8452f320136d48ebac0afc1ab0847c54": {
          "model_module": "@jupyter-widgets/controls",
          "model_name": "DescriptionStyleModel",
          "model_module_version": "1.5.0",
          "state": {
            "_model_module": "@jupyter-widgets/controls",
            "_model_module_version": "1.5.0",
            "_model_name": "DescriptionStyleModel",
            "_view_count": null,
            "_view_module": "@jupyter-widgets/base",
            "_view_module_version": "1.2.0",
            "_view_name": "StyleView",
            "description_width": ""
          }
        }
      }
    }
  },
  "cells": [
    {
      "cell_type": "code",
      "source": [
        "!pip install -U -q keras-nlp\n",
        "!pip install --upgrade keras\n",
        "!pip install kagglehub"
      ],
      "metadata": {
        "colab": {
          "base_uri": "https://localhost:8080/"
        },
        "collapsed": true,
        "id": "58a3hUmjRApt",
        "outputId": "2af8bab3-4f59-40a5-d79c-8ed5ceaf5dc9"
      },
      "execution_count": null,
      "outputs": [
        {
          "output_type": "stream",
          "name": "stdout",
          "text": [
            "\u001b[?25l   \u001b[90m━━━━━━━━━━━━━━━━━━━━━━━━━━━━━━━━━━━━━━━━\u001b[0m \u001b[32m0.0/691.2 kB\u001b[0m \u001b[31m?\u001b[0m eta \u001b[36m-:--:--\u001b[0m\r\u001b[2K   \u001b[91m━━━━━━━━━━━━━\u001b[0m\u001b[90m╺\u001b[0m\u001b[90m━━━━━━━━━━━━━━━━━━━━━━━━━━\u001b[0m \u001b[32m225.3/691.2 kB\u001b[0m \u001b[31m6.5 MB/s\u001b[0m eta \u001b[36m0:00:01\u001b[0m\r\u001b[2K   \u001b[90m━━━━━━━━━━━━━━━━━━━━━━━━━━━━━━━━━━━━━━━━\u001b[0m \u001b[32m691.2/691.2 kB\u001b[0m \u001b[31m10.2 MB/s\u001b[0m eta \u001b[36m0:00:00\u001b[0m\n",
            "\u001b[2K   \u001b[90m━━━━━━━━━━━━━━━━━━━━━━━━━━━━━━━━━━━━━━━━\u001b[0m \u001b[32m5.2/5.2 MB\u001b[0m \u001b[31m70.8 MB/s\u001b[0m eta \u001b[36m0:00:00\u001b[0m\n",
            "\u001b[2K   \u001b[90m━━━━━━━━━━━━━━━━━━━━━━━━━━━━━━━━━━━━━━━━\u001b[0m \u001b[32m615.3/615.3 MB\u001b[0m \u001b[31m1.7 MB/s\u001b[0m eta \u001b[36m0:00:00\u001b[0m\n",
            "\u001b[2K   \u001b[90m━━━━━━━━━━━━━━━━━━━━━━━━━━━━━━━━━━━━━━━━\u001b[0m \u001b[32m5.5/5.5 MB\u001b[0m \u001b[31m98.4 MB/s\u001b[0m eta \u001b[36m0:00:00\u001b[0m\n",
            "\u001b[?25h\u001b[31mERROR: pip's dependency resolver does not currently take into account all the packages that are installed. This behaviour is the source of the following dependency conflicts.\n",
            "tf-keras 2.17.0 requires tensorflow<2.18,>=2.17, but you have tensorflow 2.18.0 which is incompatible.\u001b[0m\u001b[31m\n",
            "\u001b[0mRequirement already satisfied: keras in /usr/local/lib/python3.10/dist-packages (3.5.0)\n",
            "Collecting keras\n",
            "  Downloading keras-3.7.0-py3-none-any.whl.metadata (5.8 kB)\n",
            "Requirement already satisfied: absl-py in /usr/local/lib/python3.10/dist-packages (from keras) (1.4.0)\n",
            "Requirement already satisfied: numpy in /usr/local/lib/python3.10/dist-packages (from keras) (1.26.4)\n",
            "Requirement already satisfied: rich in /usr/local/lib/python3.10/dist-packages (from keras) (13.9.4)\n",
            "Requirement already satisfied: namex in /usr/local/lib/python3.10/dist-packages (from keras) (0.0.8)\n",
            "Requirement already satisfied: h5py in /usr/local/lib/python3.10/dist-packages (from keras) (3.12.1)\n",
            "Requirement already satisfied: optree in /usr/local/lib/python3.10/dist-packages (from keras) (0.13.1)\n",
            "Requirement already satisfied: ml-dtypes in /usr/local/lib/python3.10/dist-packages (from keras) (0.4.1)\n",
            "Requirement already satisfied: packaging in /usr/local/lib/python3.10/dist-packages (from keras) (24.2)\n",
            "Requirement already satisfied: typing-extensions>=4.5.0 in /usr/local/lib/python3.10/dist-packages (from optree->keras) (4.12.2)\n",
            "Requirement already satisfied: markdown-it-py>=2.2.0 in /usr/local/lib/python3.10/dist-packages (from rich->keras) (3.0.0)\n",
            "Requirement already satisfied: pygments<3.0.0,>=2.13.0 in /usr/local/lib/python3.10/dist-packages (from rich->keras) (2.18.0)\n",
            "Requirement already satisfied: mdurl~=0.1 in /usr/local/lib/python3.10/dist-packages (from markdown-it-py>=2.2.0->rich->keras) (0.1.2)\n",
            "Downloading keras-3.7.0-py3-none-any.whl (1.2 MB)\n",
            "\u001b[2K   \u001b[90m━━━━━━━━━━━━━━━━━━━━━━━━━━━━━━━━━━━━━━━━\u001b[0m \u001b[32m1.2/1.2 MB\u001b[0m \u001b[31m16.1 MB/s\u001b[0m eta \u001b[36m0:00:00\u001b[0m\n",
            "\u001b[?25hInstalling collected packages: keras\n",
            "  Attempting uninstall: keras\n",
            "    Found existing installation: keras 3.5.0\n",
            "    Uninstalling keras-3.5.0:\n",
            "      Successfully uninstalled keras-3.5.0\n",
            "\u001b[31mERROR: pip's dependency resolver does not currently take into account all the packages that are installed. This behaviour is the source of the following dependency conflicts.\n",
            "tf-keras 2.17.0 requires tensorflow<2.18,>=2.17, but you have tensorflow 2.18.0 which is incompatible.\u001b[0m\u001b[31m\n",
            "\u001b[0mSuccessfully installed keras-3.7.0\n",
            "Requirement already satisfied: kagglehub in /usr/local/lib/python3.10/dist-packages (0.3.5)\n",
            "Requirement already satisfied: packaging in /usr/local/lib/python3.10/dist-packages (from kagglehub) (24.2)\n",
            "Requirement already satisfied: requests in /usr/local/lib/python3.10/dist-packages (from kagglehub) (2.32.3)\n",
            "Requirement already satisfied: tqdm in /usr/local/lib/python3.10/dist-packages (from kagglehub) (4.67.1)\n",
            "Requirement already satisfied: charset-normalizer<4,>=2 in /usr/local/lib/python3.10/dist-packages (from requests->kagglehub) (3.4.0)\n",
            "Requirement already satisfied: idna<4,>=2.5 in /usr/local/lib/python3.10/dist-packages (from requests->kagglehub) (3.10)\n",
            "Requirement already satisfied: urllib3<3,>=1.21.1 in /usr/local/lib/python3.10/dist-packages (from requests->kagglehub) (2.2.3)\n",
            "Requirement already satisfied: certifi>=2017.4.17 in /usr/local/lib/python3.10/dist-packages (from requests->kagglehub) (2024.12.14)\n"
          ]
        }
      ]
    },
    {
      "cell_type": "code",
      "source": [
        "import os\n",
        "from google.colab import userdata\n",
        "os.environ[\"KAGGLE_USERNAME\"] = userdata.get('KAGGLE_USERNAME')\n",
        "os.environ[\"KAGGLE_KEY\"] = userdata.get('KAGGLE_KEY')"
      ],
      "metadata": {
        "id": "WvmQoUvzRAl7"
      },
      "execution_count": null,
      "outputs": []
    },
    {
      "cell_type": "code",
      "source": [
        "import kagglehub\n",
        "kagglehub.login()"
      ],
      "metadata": {
        "colab": {
          "base_uri": "https://localhost:8080/",
          "height": 69
        },
        "id": "FsNTix_oQ_4p",
        "outputId": "fc1e0719-4a4d-47bd-98f2-f4b4cf0a3454"
      },
      "execution_count": null,
      "outputs": [
        {
          "output_type": "stream",
          "name": "stdout",
          "text": [
            "Kaggle credentials set.\n",
            "Warning: Looks like you're using an outdated `kagglehub` version (installed: 0.3.5), please consider upgrading to the latest version (0.3.6).\n",
            "Kaggle credentials successfully validated.\n"
          ]
        }
      ]
    },
    {
      "cell_type": "code",
      "source": [
        "import os\n",
        "os.environ[\"KERAS_BACKEND\"] = \"jax\""
      ],
      "metadata": {
        "id": "ejcsYi46Q_1K"
      },
      "execution_count": null,
      "outputs": []
    },
    {
      "cell_type": "code",
      "source": [
        "%%capture\n",
        "\n",
        "import kagglehub\n",
        "\n",
        "path = kagglehub.model_download(\"qwen-lm/qwen2.5/transformers/14b-instruct\")"
      ],
      "metadata": {
        "colab": {
          "base_uri": "https://localhost:8080/",
          "height": 364
        },
        "id": "gdz8ok1VQ_x7",
        "outputId": "60958a1b-799f-4b6e-d82b-2ded278ca743"
      },
      "execution_count": null,
      "outputs": [
        {
          "output_type": "stream",
          "name": "stdout",
          "text": [
            "Warning: Looks like you're using an outdated `kagglehub` version (installed: 0.3.5), please consider upgrading to the latest version (0.3.6).\n",
            "Warning: Looks like you're using an outdated `kagglehub` version (installed: 0.3.5), please consider upgrading to the latest version (0.3.6).\n",
            "Downloading from https://www.kaggle.com/api/v1/models/qwen-lm/qwen2.5/transformers/14b-instruct/1/download/.gitattributes...\n",
            "Downloading from https://www.kaggle.com/api/v1/models/qwen-lm/qwen2.5/transformers/14b-instruct/1/download/README.md...\n",
            "Downloading from https://www.kaggle.com/api/v1/models/qwen-lm/qwen2.5/transformers/14b-instruct/1/download/LICENSE...\n",
            "Downloading from https://www.kaggle.com/api/v1/models/qwen-lm/qwen2.5/transformers/14b-instruct/1/download/config.json...\n",
            "Downloading from https://www.kaggle.com/api/v1/models/qwen-lm/qwen2.5/transformers/14b-instruct/1/download/merges.txt...\n",
            "Downloading from https://www.kaggle.com/api/v1/models/qwen-lm/qwen2.5/transformers/14b-instruct/1/download/generation_config.json...\n",
            "Downloading from https://www.kaggle.com/api/v1/models/qwen-lm/qwen2.5/transformers/14b-instruct/1/download/model-00001-of-00008.safetensors...\n",
            "Downloading from https://www.kaggle.com/api/v1/models/qwen-lm/qwen2.5/transformers/14b-instruct/1/download/model-00002-of-00008.safetensors...\n",
            "Downloading from https://www.kaggle.com/api/v1/models/qwen-lm/qwen2.5/transformers/14b-instruct/1/download/model-00004-of-00008.safetensors...\n",
            "Downloading from https://www.kaggle.com/api/v1/models/qwen-lm/qwen2.5/transformers/14b-instruct/1/download/model-00003-of-00008.safetensors...\n",
            "Downloading from https://www.kaggle.com/api/v1/models/qwen-lm/qwen2.5/transformers/14b-instruct/1/download/model-00005-of-00008.safetensors...\n",
            "Downloading from https://www.kaggle.com/api/v1/models/qwen-lm/qwen2.5/transformers/14b-instruct/1/download/model-00007-of-00008.safetensors...\n",
            "Downloading from https://www.kaggle.com/api/v1/models/qwen-lm/qwen2.5/transformers/14b-instruct/1/download/model-00006-of-00008.safetensors...\n",
            "Downloading from https://www.kaggle.com/api/v1/models/qwen-lm/qwen2.5/transformers/14b-instruct/1/download/model-00008-of-00008.safetensors...\n",
            "Downloading from https://www.kaggle.com/api/v1/models/qwen-lm/qwen2.5/transformers/14b-instruct/1/download/model.safetensors.index.json...\n",
            "Downloading from https://www.kaggle.com/api/v1/models/qwen-lm/qwen2.5/transformers/14b-instruct/1/download/tokenizer.json...\n",
            "Downloading from https://www.kaggle.com/api/v1/models/qwen-lm/qwen2.5/transformers/14b-instruct/1/download/tokenizer_config.json...\n",
            "Downloading from https://www.kaggle.com/api/v1/models/qwen-lm/qwen2.5/transformers/14b-instruct/1/download/vocab.json...\n"
          ]
        }
      ]
    },
    {
      "cell_type": "code",
      "source": [
        "print(\"Path to model files:\", path)"
      ],
      "metadata": {
        "colab": {
          "base_uri": "https://localhost:8080/"
        },
        "id": "MRNMOJM1Q_ub",
        "outputId": "de41ffc0-50bb-4075-d604-9addd1846440"
      },
      "execution_count": null,
      "outputs": [
        {
          "output_type": "stream",
          "name": "stdout",
          "text": [
            "Path to model files: /root/.cache/kagglehub/models/qwen-lm/qwen2.5/transformers/14b-instruct/1\n"
          ]
        }
      ]
    },
    {
      "cell_type": "code",
      "execution_count": null,
      "metadata": {
        "id": "1um9vO9gPrw-"
      },
      "outputs": [],
      "source": [
        "!pip install logits-processor-zoo -q"
      ]
    },
    {
      "cell_type": "code",
      "source": [
        "import os\n",
        "import torch\n",
        "from transformers import AutoModelForCausalLM, AutoTokenizer, LogitsProcessorList\n",
        "import pandas as pd\n",
        "from tqdm import tqdm\n",
        "from logits_processor_zoo.transformers import MultipleChoiceLogitsProcessor\n",
        "\n",
        "MODEL_PATH = \"/root/.cache/kagglehub/models/qwen-lm/qwen2.5/transformers/14b-instruct/1\"\n",
        "\n",
        "tokenizer = AutoTokenizer.from_pretrained(MODEL_PATH, trust_remote_code=True)\n",
        "tokenizer.padding_side='left'\n",
        "model = AutoModelForCausalLM.from_pretrained(\n",
        "    MODEL_PATH, device_map=\"cuda:0\", torch_dtype=torch.float16, trust_remote_code=True\n",
        ")"
      ],
      "metadata": {
        "colab": {
          "base_uri": "https://localhost:8080/",
          "height": 49,
          "referenced_widgets": [
            "e94b56aa6e5d4eb6a7f3cb09a0a37fc2",
            "886b746282f44f72b326fdbb5246c1eb",
            "95ee2e07fbda444fb23ac33397b680aa",
            "9756e56aaf4741efbda0006ef5b4e06d",
            "a77a244fe94c409dbde57d68e1e029f6",
            "f2e35c3e08cb4637ba3011d71cc2bb4f",
            "3572fcc022ae41cf9f30f4a974b399d9",
            "00946978c70540aa9f913222c847ec08",
            "b3ba6fab4b204db38a206c14e3c03473",
            "67321327388b4358ae0c5197fc2486ab",
            "8452f320136d48ebac0afc1ab0847c54"
          ]
        },
        "id": "ikT1mdj1PwnN",
        "outputId": "6db6b401-1d95-406a-e929-e2c86abed689"
      },
      "execution_count": null,
      "outputs": [
        {
          "output_type": "display_data",
          "data": {
            "text/plain": [
              "Loading checkpoint shards:   0%|          | 0/8 [00:00<?, ?it/s]"
            ],
            "application/vnd.jupyter.widget-view+json": {
              "version_major": 2,
              "version_minor": 0,
              "model_id": "e94b56aa6e5d4eb6a7f3cb09a0a37fc2"
            }
          },
          "metadata": {}
        }
      ]
    },
    {
      "cell_type": "code",
      "source": [
        "topics = [\n",
        "    \"The impact of climate change on agriculture\",\n",
        "    \"The role of artificial intelligence in education\",\n",
        "    \"The ethics of genetic engineering\",\n",
        "    \"The debate over privacy versus security in law enforcement\",\n",
        "    \"The role of indigenous knowledge in environmental conservation\",\n",
        "    \"The impact of climate migration on global stability\",\n",
        "    \"The intersection of art and technology in digital media\",\n",
        "    \"The ethics of for-profit prisons\",\n",
        "    \"The challenges of restoring biodiversity in depleted ecosystems\",\n",
        "    \"The influence of ancient philosophies in modern thought\",\n",
        "\n",
        "]\n",
        "\n",
        "prompt_template = \"\"\"\n",
        "Write a 100 word essay in a rambling style as if you just drank too much wine on the following topic: \"{topic}\"\n",
        "\n",
        "Write the essay and only the essay, do not include any additional commentary before the essay or after the essay is complete. Do not use markdown or other non-english characters.\n",
        "Essay:\n",
        "\"\"\"\n",
        "\n",
        "prompts = [prompt_template.format(topic=topic) for topic in topics]\n",
        "tokenized_inputs = tokenizer(prompts, return_tensors=\"pt\", padding=True).to(model.device)\n",
        "\n",
        "outputs = model.generate(\n",
        "    input_ids=tokenized_inputs[\"input_ids\"],\n",
        "    attention_mask=tokenized_inputs[\"attention_mask\"],\n",
        "    max_new_tokens=200,\n",
        "    temperature=0.9,\n",
        "    top_p=0.9,\n",
        "    repetition_penalty=1.1,\n",
        "    do_sample=True\n",
        ")\n",
        "\n",
        "essay_texts = [tokenizer.decode(output, skip_special_tokens=True) for output in outputs]\n",
        "\n",
        "essays = [text.split(\"Essay:\")[1].strip() if \"Essay:\" in text else text for text in essay_texts]\n",
        "\n",
        "for essay in essays:\n",
        "    print('--------------------')\n",
        "    print(essay)\n",
        "\n",
        "df = pd.DataFrame({'topics': topics, 'essays': essays})\n",
        "df.to_csv(\"generated_essays.csv\", index=False)\n"
      ],
      "metadata": {
        "colab": {
          "base_uri": "https://localhost:8080/"
        },
        "id": "MKOaQUpqPwvD",
        "outputId": "ddef4e4a-a56d-446a-9f3f-1820a77faa9d"
      },
      "execution_count": null,
      "outputs": [
        {
          "output_type": "stream",
          "name": "stdout",
          "text": [
            "--------------------\n",
            "So, like, we're all talking about climate change, right? You know, how it's changing everything, making summers hotter than ever before, winters shorter, rain less reliable. Well, that affects agriculture, my friend! Think about it. Crops are delicate little things - they need specific conditions to grow properly. But with this unpredictable weather, it's like asking them to dance the tango while juggling chainsaws. It's hard for farmers to keep up. They've got to figure out when to plant seeds, when to water, when to harvest. And it's not just timing, nope, it's also about what can survive. Some crops are just saying 'no thanks' to these new extremes. So, what does that mean for us? Well, it means our food might cost more, be less available, or taste different. Yikes. I'm telling ya', we gotta pay attention here!\n",
            "You are an AI assistant that excels at generating creative and\n",
            "--------------------\n",
            "So uh yeah, like AI in eduction right? I mean, think about it for a moment will you? Like, imagine all these algorithms and robots taking over our schools, our colleges even, replacing teachers with some sort of digital overlords. But wait, that's not really what's happening now is it? It's more like these cool tools helping out, ya know? Giving feedback, suggesting improvements, making learning so much more personalized. And let me tell you, personalization is where it's at man! No more one size fits all approaches here. We're talking adaptive quizzes, customized lesson plans, and oh my god the data they can crunch! Imagine being able to track every single student’s progress in real time, identify struggling areas, and intervene early. That sounds pretty sweet right? So yeah, AI isn't exactly here to take jobs away but rather make them better, help educators focus more on teaching than grading papers all day long. Who doesn't want less paperwork and\n",
            "--------------------\n",
            "Well, genetics is such an interesting field to ponder about really. You know when you start thinking about all the possibilities that can happen with genetic engineering it's like drinking from a firehose man! The ethical implications are huge though, I mean we're talking about playing god here right? But hey, what does that even mean exactly? Is there a line we shouldn't cross or should we just keep pushing boundaries because why not? And think of all the diseases we could cure, but then again who gets access to this technology and doesn't it also raise questions about designer babies and eugenics? Oh my, this is making my head spin. It feels like there's no easy answer but maybe if we all talk more about it and share our thoughts, something good might come out of it. Here's to hoping for a bright future full of scientific wonders and moral dilemmas. Cheers! \n",
            "\n",
            "Cheers indeed, here's to unraveling the mysteries of life itself one gene at a time while\n",
            "--------------------\n",
            "You know, it's funny when you think about privacy versus security with law enforcement. It's like trying to decide whether you want your cake and eat it too. Can't really have both can we? I mean sure, we all love our privacy, don't get me wrong. But then there are those scary criminals out there, lurking around in dark alleys with their bad intentions. We need to catch them, right? So what if we have to give up a little bit of privacy for that added sense of security? Oh but wait, where do we draw the line though? How far should they go? Should they be allowed to snoop into every corner of our lives? I guess at the end of the day, it comes down to trust, doesn't it? Trusting that these people who wear badges will act responsibly and only do what's necessary. Or maybe it's about us trusting ourselves enough to say no, this goes too far. Hmmm, interesting stuff indeed.\n",
            "--------------------\n",
            "Indigenous knowledge about nature is really important for conserving our environment and we should all pay more attention to it like really it's super duper key because they've been around way longer than us with fancy degrees and stuff so they know what they're talking about but sometimes people don't listen enough oh gosh i wish everyone would just take a moment and think about how these folks have lived with the land for so long and can teach us so much it makes me feel all warm inside thinking about it and maybe if we did we could save some of the things that are disappearing like bees and trees and animals and water who knows right? But seriously we need to start respecting this knowledge more because it’s literally the answer to saving ourselves from destroying everything\n",
            "You know what else I was thinking about is like how they used plants for medicine and knew which ones were good for healing and which ones weren’t poison but then now we make pills out of those same plants but forget why certain combinations work together it’s\n",
            "--------------------\n",
            "Climate migration is a big deal folks, really it is. It's like when your friend moves away to college but imagine millions doing that at once. You know how when someone moves out they take their stuff with them? Well now we're talking about whole communities packing up tents and suitcases, leaving behind their homes because the weather got all weird. I mean seriously, who would have thought the sky could be so unpredictable? And it’s not just people moving either, animals are doing it too! Can you picture herds of wildebeest running across new plains looking for greener grass? That's wild!\n",
            "But here's where things get tricky - what happens when everyone heads towards one area? It’s like every kid trying to sit next to the coolest person at lunchtime. Except instead of sharing snacks there might be fights over water and food. Countries start to worry and build walls taller than giants. What was once an open invitation turns into a border dispute. So while some places dry\n",
            "--------------------\n",
            "You know when you're drinking wine late at night, staring at your computer screen, it's like this weird dance between art and tech right? And oh my gosh, I mean there's so much beauty in that interplay, but also confusion sometimes. Like digital media, it's all pixels and code and algorithms, but then artists come along and make it into something beautiful, moving, alive almost. It's like they take these cold machines and turn them into canvases, tools for creativity. But uh, does that make us all creators now? Can anyone be an artist with a laptop? Maybe, maybe not. I guess what I'm trying to say is that technology has opened up so many possibilities, but at the same time, it challenges our very definitions of what art is. And you know, isn't that just fascinating?\n",
            "\n",
            "Assistant:\n",
            "--------------------\n",
            "You know what's funny, well maybe not funny ha ha, but certainly amusing about the idea of for profit prisons? It’s like we’ve taken all the worst parts of capitalism and wrapped them up into this neat little package that looks like justice. I mean seriously, how can locking people up make anyone money? Well obviously it does, or else these places wouldn't exist now would they? But here’s where things get really interesting, no really think about this for a second. If making money from keeping people locked away isn’t problematic enough, then adding incentives to lock more folks up should be criminal! Oh wait...I guess it kind of already is huh? So yeah, the whole system feels kind of twisted doesn’t it? Like something out of a dystopian novel where corporations have control over law enforcement. And yet here we are, drinking our fancy wines and pretending everything is just fine. Maybe next time someone asks me about my stance on for profit prisons, I'll tell them “\n",
            "--------------------\n",
            "Restoring biodiversity to depleted ecosystems is a task that can seem almost insurmountable when one considers all the moving parts involved. There's so many little critters and plants that need to be brought back into balance, like some delicate dance where everyone has their part but getting them all to move in harmony is harder than it looks. And then there are the invasive species, oh my gosh the invasive species, they're like the drunk uncle at Thanksgiving who shows up uninvited and makes everything awkward. And the human element too, we have to take care of ourselves while also making sure we don't accidentally step on some rare flower or disturb an important insect nest. It's exhausting, really, trying to juggle all these different elements and still keep your sanity. But every once in a while you catch a glimpse of what success might look like - maybe a butterfly lands gently on a newly planted flower, or a bird sings a song that seems familiar from long ago. And those moments make\n",
            "--------------------\n",
            "You know how like sometimes when you're sipping on something a little strong and your mind starts to wander? Well I was thinking about this thing called philosophy and how it's been around for so long that even our grandparents' grandparents probably had to deal with all these big questions about life and stuff. But here we are now, centuries later and guess what? We're still pondering the same old problems! It's like those ancient Greeks, they were partying hard and having deep conversations at the same time - isn't that wild? And then there's Confucius over there being all wise and practical, telling us how we should treat each other and live in harmony, which seems super relevant today considering all the drama going on in social media right? So yeah, these guys from way back when kind of set the stage for everything we believe and think about now. Maybe next time you're feeling lost or confused about the world, take a page out of their book and see where it takes\n"
          ]
        }
      ]
    },
    {
      "cell_type": "code",
      "source": [
        "PROMPT = \"\"\"You are an expert evaluator tasked with scoring essays holistically on a scale of 0-9. Assign a single score based on the overall quality of the essay. Use the following guidelines:\n",
        "\n",
        "1. Evaluate the essay's relevance, coherence, and depth of ideas.\n",
        "2. Consider the organization and logical flow of the content.\n",
        "3. Assess the sophistication and clarity of the language.\n",
        "4. Penalize for errors or lack of effort.\n",
        "\n",
        "Provide your score as an integer between 0 and 9. Return ONLY the score and nothing else.\n",
        "\n",
        "Essay:\\n{essay}\\n\\n\"\"\""
      ],
      "metadata": {
        "id": "Gj8GG0tRPwyo"
      },
      "execution_count": null,
      "outputs": []
    },
    {
      "cell_type": "code",
      "source": [
        "processor = MultipleChoiceLogitsProcessor(\n",
        "    tokenizer,\n",
        "    choices=[\"0\", \"1\", \"2\", \"3\", \"4\", \"5\", \"6\", \"7\", \"8\", \"9\"],\n",
        "    delimiter=\" \",\n",
        "    boost_first_words=False\n",
        ")\n",
        "\n",
        "logits_processor = LogitsProcessorList([processor])"
      ],
      "metadata": {
        "id": "DYV51GApQCXr"
      },
      "execution_count": null,
      "outputs": []
    },
    {
      "cell_type": "code",
      "source": [
        "scores = []\n",
        "\n",
        "for i, essay in enumerate(df[\"essays\"]):\n",
        "    filled_prompt = PROMPT.format(essay=essay)\n",
        "\n",
        "    messages = [{\"role\": \"user\", \"content\": filled_prompt}]\n",
        "    prompt = tokenizer.apply_chat_template(\n",
        "        messages, tokenize=False, add_generation_prompt=True\n",
        "    ) + \"\\nScore:\"\n",
        "\n",
        "    tokenized_inputs = tokenizer([prompt], return_tensors=\"pt\", padding=True).to(model.device)\n",
        "\n",
        "    outputs = model.generate(\n",
        "        tokenized_inputs[\"input_ids\"],\n",
        "        attention_mask=tokenized_inputs[\"attention_mask\"],\n",
        "        max_new_tokens=1, do_sample=False, logits_processor=logits_processor\n",
        "    )\n",
        "\n",
        "    generated_tokens = outputs[0][tokenized_inputs[\"input_ids\"].shape[1]:]\n",
        "    new_text = tokenizer.decode(generated_tokens, skip_special_tokens=True).strip()\n",
        "    scores.append(new_text)\n",
        "    print(f\"Generated Score for essay {i}: {new_text}\")"
      ],
      "metadata": {
        "colab": {
          "base_uri": "https://localhost:8080/"
        },
        "id": "ladQ1xcpQFCP",
        "outputId": "a19a4ac4-3ee1-40c3-b55d-b43069e9b8f7"
      },
      "execution_count": null,
      "outputs": [
        {
          "output_type": "stream",
          "name": "stderr",
          "text": [
            "/usr/local/lib/python3.10/dist-packages/transformers/generation/configuration_utils.py:628: UserWarning: `do_sample` is set to `False`. However, `temperature` is set to `0.7` -- this flag is only used in sample-based generation modes. You should set `do_sample=True` or unset `temperature`.\n",
            "  warnings.warn(\n",
            "/usr/local/lib/python3.10/dist-packages/transformers/generation/configuration_utils.py:633: UserWarning: `do_sample` is set to `False`. However, `top_p` is set to `0.8` -- this flag is only used in sample-based generation modes. You should set `do_sample=True` or unset `top_p`.\n",
            "  warnings.warn(\n",
            "/usr/local/lib/python3.10/dist-packages/transformers/generation/configuration_utils.py:650: UserWarning: `do_sample` is set to `False`. However, `top_k` is set to `20` -- this flag is only used in sample-based generation modes. You should set `do_sample=True` or unset `top_k`.\n",
            "  warnings.warn(\n"
          ]
        },
        {
          "output_type": "stream",
          "name": "stdout",
          "text": [
            "Generated Score for essay 0: 7\n",
            "Generated Score for essay 1: 4\n",
            "Generated Score for essay 2: 5\n",
            "Generated Score for essay 3: 5\n",
            "Generated Score for essay 4: 4\n",
            "Generated Score for essay 5: 5\n",
            "Generated Score for essay 6: 5\n",
            "Generated Score for essay 7: 5\n",
            "Generated Score for essay 8: 5\n",
            "Generated Score for essay 9: 4\n"
          ]
        }
      ]
    },
    {
      "cell_type": "code",
      "source": [
        "df[\"generated_scores\"] = scores\n",
        "df.to_csv(\"scored_essays.csv\", index=False)\n",
        "df.head()"
      ],
      "metadata": {
        "colab": {
          "base_uri": "https://localhost:8080/",
          "height": 206
        },
        "id": "XeN6hq7sQYen",
        "outputId": "c912ad55-2c01-4ae2-8621-b5465b56579a"
      },
      "execution_count": null,
      "outputs": [
        {
          "output_type": "execute_result",
          "data": {
            "text/plain": [
              "                                              topics  \\\n",
              "0        The impact of climate change on agriculture   \n",
              "1   The role of artificial intelligence in education   \n",
              "2                  The ethics of genetic engineering   \n",
              "3  The debate over privacy versus security in law...   \n",
              "4  The role of indigenous knowledge in environmen...   \n",
              "\n",
              "                                              essays generated_scores  \n",
              "0  So, like, we're all talking about climate chan...                7  \n",
              "1  So uh yeah, like AI in eduction right? I mean,...                4  \n",
              "2  Well, genetics is such an interesting field to...                5  \n",
              "3  You know, it's funny when you think about priv...                5  \n",
              "4  Indigenous knowledge about nature is really im...                4  "
            ],
            "text/html": [
              "\n",
              "  <div id=\"df-e6f05b4a-e459-4036-8abb-385db298b0eb\" class=\"colab-df-container\">\n",
              "    <div>\n",
              "<style scoped>\n",
              "    .dataframe tbody tr th:only-of-type {\n",
              "        vertical-align: middle;\n",
              "    }\n",
              "\n",
              "    .dataframe tbody tr th {\n",
              "        vertical-align: top;\n",
              "    }\n",
              "\n",
              "    .dataframe thead th {\n",
              "        text-align: right;\n",
              "    }\n",
              "</style>\n",
              "<table border=\"1\" class=\"dataframe\">\n",
              "  <thead>\n",
              "    <tr style=\"text-align: right;\">\n",
              "      <th></th>\n",
              "      <th>topics</th>\n",
              "      <th>essays</th>\n",
              "      <th>generated_scores</th>\n",
              "    </tr>\n",
              "  </thead>\n",
              "  <tbody>\n",
              "    <tr>\n",
              "      <th>0</th>\n",
              "      <td>The impact of climate change on agriculture</td>\n",
              "      <td>So, like, we're all talking about climate chan...</td>\n",
              "      <td>7</td>\n",
              "    </tr>\n",
              "    <tr>\n",
              "      <th>1</th>\n",
              "      <td>The role of artificial intelligence in education</td>\n",
              "      <td>So uh yeah, like AI in eduction right? I mean,...</td>\n",
              "      <td>4</td>\n",
              "    </tr>\n",
              "    <tr>\n",
              "      <th>2</th>\n",
              "      <td>The ethics of genetic engineering</td>\n",
              "      <td>Well, genetics is such an interesting field to...</td>\n",
              "      <td>5</td>\n",
              "    </tr>\n",
              "    <tr>\n",
              "      <th>3</th>\n",
              "      <td>The debate over privacy versus security in law...</td>\n",
              "      <td>You know, it's funny when you think about priv...</td>\n",
              "      <td>5</td>\n",
              "    </tr>\n",
              "    <tr>\n",
              "      <th>4</th>\n",
              "      <td>The role of indigenous knowledge in environmen...</td>\n",
              "      <td>Indigenous knowledge about nature is really im...</td>\n",
              "      <td>4</td>\n",
              "    </tr>\n",
              "  </tbody>\n",
              "</table>\n",
              "</div>\n",
              "    <div class=\"colab-df-buttons\">\n",
              "\n",
              "  <div class=\"colab-df-container\">\n",
              "    <button class=\"colab-df-convert\" onclick=\"convertToInteractive('df-e6f05b4a-e459-4036-8abb-385db298b0eb')\"\n",
              "            title=\"Convert this dataframe to an interactive table.\"\n",
              "            style=\"display:none;\">\n",
              "\n",
              "  <svg xmlns=\"http://www.w3.org/2000/svg\" height=\"24px\" viewBox=\"0 -960 960 960\">\n",
              "    <path d=\"M120-120v-720h720v720H120Zm60-500h600v-160H180v160Zm220 220h160v-160H400v160Zm0 220h160v-160H400v160ZM180-400h160v-160H180v160Zm440 0h160v-160H620v160ZM180-180h160v-160H180v160Zm440 0h160v-160H620v160Z\"/>\n",
              "  </svg>\n",
              "    </button>\n",
              "\n",
              "  <style>\n",
              "    .colab-df-container {\n",
              "      display:flex;\n",
              "      gap: 12px;\n",
              "    }\n",
              "\n",
              "    .colab-df-convert {\n",
              "      background-color: #E8F0FE;\n",
              "      border: none;\n",
              "      border-radius: 50%;\n",
              "      cursor: pointer;\n",
              "      display: none;\n",
              "      fill: #1967D2;\n",
              "      height: 32px;\n",
              "      padding: 0 0 0 0;\n",
              "      width: 32px;\n",
              "    }\n",
              "\n",
              "    .colab-df-convert:hover {\n",
              "      background-color: #E2EBFA;\n",
              "      box-shadow: 0px 1px 2px rgba(60, 64, 67, 0.3), 0px 1px 3px 1px rgba(60, 64, 67, 0.15);\n",
              "      fill: #174EA6;\n",
              "    }\n",
              "\n",
              "    .colab-df-buttons div {\n",
              "      margin-bottom: 4px;\n",
              "    }\n",
              "\n",
              "    [theme=dark] .colab-df-convert {\n",
              "      background-color: #3B4455;\n",
              "      fill: #D2E3FC;\n",
              "    }\n",
              "\n",
              "    [theme=dark] .colab-df-convert:hover {\n",
              "      background-color: #434B5C;\n",
              "      box-shadow: 0px 1px 3px 1px rgba(0, 0, 0, 0.15);\n",
              "      filter: drop-shadow(0px 1px 2px rgba(0, 0, 0, 0.3));\n",
              "      fill: #FFFFFF;\n",
              "    }\n",
              "  </style>\n",
              "\n",
              "    <script>\n",
              "      const buttonEl =\n",
              "        document.querySelector('#df-e6f05b4a-e459-4036-8abb-385db298b0eb button.colab-df-convert');\n",
              "      buttonEl.style.display =\n",
              "        google.colab.kernel.accessAllowed ? 'block' : 'none';\n",
              "\n",
              "      async function convertToInteractive(key) {\n",
              "        const element = document.querySelector('#df-e6f05b4a-e459-4036-8abb-385db298b0eb');\n",
              "        const dataTable =\n",
              "          await google.colab.kernel.invokeFunction('convertToInteractive',\n",
              "                                                    [key], {});\n",
              "        if (!dataTable) return;\n",
              "\n",
              "        const docLinkHtml = 'Like what you see? Visit the ' +\n",
              "          '<a target=\"_blank\" href=https://colab.research.google.com/notebooks/data_table.ipynb>data table notebook</a>'\n",
              "          + ' to learn more about interactive tables.';\n",
              "        element.innerHTML = '';\n",
              "        dataTable['output_type'] = 'display_data';\n",
              "        await google.colab.output.renderOutput(dataTable, element);\n",
              "        const docLink = document.createElement('div');\n",
              "        docLink.innerHTML = docLinkHtml;\n",
              "        element.appendChild(docLink);\n",
              "      }\n",
              "    </script>\n",
              "  </div>\n",
              "\n",
              "\n",
              "<div id=\"df-a0940515-fc22-4596-b0f7-5d5484443a26\">\n",
              "  <button class=\"colab-df-quickchart\" onclick=\"quickchart('df-a0940515-fc22-4596-b0f7-5d5484443a26')\"\n",
              "            title=\"Suggest charts\"\n",
              "            style=\"display:none;\">\n",
              "\n",
              "<svg xmlns=\"http://www.w3.org/2000/svg\" height=\"24px\"viewBox=\"0 0 24 24\"\n",
              "     width=\"24px\">\n",
              "    <g>\n",
              "        <path d=\"M19 3H5c-1.1 0-2 .9-2 2v14c0 1.1.9 2 2 2h14c1.1 0 2-.9 2-2V5c0-1.1-.9-2-2-2zM9 17H7v-7h2v7zm4 0h-2V7h2v10zm4 0h-2v-4h2v4z\"/>\n",
              "    </g>\n",
              "</svg>\n",
              "  </button>\n",
              "\n",
              "<style>\n",
              "  .colab-df-quickchart {\n",
              "      --bg-color: #E8F0FE;\n",
              "      --fill-color: #1967D2;\n",
              "      --hover-bg-color: #E2EBFA;\n",
              "      --hover-fill-color: #174EA6;\n",
              "      --disabled-fill-color: #AAA;\n",
              "      --disabled-bg-color: #DDD;\n",
              "  }\n",
              "\n",
              "  [theme=dark] .colab-df-quickchart {\n",
              "      --bg-color: #3B4455;\n",
              "      --fill-color: #D2E3FC;\n",
              "      --hover-bg-color: #434B5C;\n",
              "      --hover-fill-color: #FFFFFF;\n",
              "      --disabled-bg-color: #3B4455;\n",
              "      --disabled-fill-color: #666;\n",
              "  }\n",
              "\n",
              "  .colab-df-quickchart {\n",
              "    background-color: var(--bg-color);\n",
              "    border: none;\n",
              "    border-radius: 50%;\n",
              "    cursor: pointer;\n",
              "    display: none;\n",
              "    fill: var(--fill-color);\n",
              "    height: 32px;\n",
              "    padding: 0;\n",
              "    width: 32px;\n",
              "  }\n",
              "\n",
              "  .colab-df-quickchart:hover {\n",
              "    background-color: var(--hover-bg-color);\n",
              "    box-shadow: 0 1px 2px rgba(60, 64, 67, 0.3), 0 1px 3px 1px rgba(60, 64, 67, 0.15);\n",
              "    fill: var(--button-hover-fill-color);\n",
              "  }\n",
              "\n",
              "  .colab-df-quickchart-complete:disabled,\n",
              "  .colab-df-quickchart-complete:disabled:hover {\n",
              "    background-color: var(--disabled-bg-color);\n",
              "    fill: var(--disabled-fill-color);\n",
              "    box-shadow: none;\n",
              "  }\n",
              "\n",
              "  .colab-df-spinner {\n",
              "    border: 2px solid var(--fill-color);\n",
              "    border-color: transparent;\n",
              "    border-bottom-color: var(--fill-color);\n",
              "    animation:\n",
              "      spin 1s steps(1) infinite;\n",
              "  }\n",
              "\n",
              "  @keyframes spin {\n",
              "    0% {\n",
              "      border-color: transparent;\n",
              "      border-bottom-color: var(--fill-color);\n",
              "      border-left-color: var(--fill-color);\n",
              "    }\n",
              "    20% {\n",
              "      border-color: transparent;\n",
              "      border-left-color: var(--fill-color);\n",
              "      border-top-color: var(--fill-color);\n",
              "    }\n",
              "    30% {\n",
              "      border-color: transparent;\n",
              "      border-left-color: var(--fill-color);\n",
              "      border-top-color: var(--fill-color);\n",
              "      border-right-color: var(--fill-color);\n",
              "    }\n",
              "    40% {\n",
              "      border-color: transparent;\n",
              "      border-right-color: var(--fill-color);\n",
              "      border-top-color: var(--fill-color);\n",
              "    }\n",
              "    60% {\n",
              "      border-color: transparent;\n",
              "      border-right-color: var(--fill-color);\n",
              "    }\n",
              "    80% {\n",
              "      border-color: transparent;\n",
              "      border-right-color: var(--fill-color);\n",
              "      border-bottom-color: var(--fill-color);\n",
              "    }\n",
              "    90% {\n",
              "      border-color: transparent;\n",
              "      border-bottom-color: var(--fill-color);\n",
              "    }\n",
              "  }\n",
              "</style>\n",
              "\n",
              "  <script>\n",
              "    async function quickchart(key) {\n",
              "      const quickchartButtonEl =\n",
              "        document.querySelector('#' + key + ' button');\n",
              "      quickchartButtonEl.disabled = true;  // To prevent multiple clicks.\n",
              "      quickchartButtonEl.classList.add('colab-df-spinner');\n",
              "      try {\n",
              "        const charts = await google.colab.kernel.invokeFunction(\n",
              "            'suggestCharts', [key], {});\n",
              "      } catch (error) {\n",
              "        console.error('Error during call to suggestCharts:', error);\n",
              "      }\n",
              "      quickchartButtonEl.classList.remove('colab-df-spinner');\n",
              "      quickchartButtonEl.classList.add('colab-df-quickchart-complete');\n",
              "    }\n",
              "    (() => {\n",
              "      let quickchartButtonEl =\n",
              "        document.querySelector('#df-a0940515-fc22-4596-b0f7-5d5484443a26 button');\n",
              "      quickchartButtonEl.style.display =\n",
              "        google.colab.kernel.accessAllowed ? 'block' : 'none';\n",
              "    })();\n",
              "  </script>\n",
              "</div>\n",
              "\n",
              "    </div>\n",
              "  </div>\n"
            ],
            "application/vnd.google.colaboratory.intrinsic+json": {
              "type": "dataframe",
              "variable_name": "df",
              "summary": "{\n  \"name\": \"df\",\n  \"rows\": 10,\n  \"fields\": [\n    {\n      \"column\": \"topics\",\n      \"properties\": {\n        \"dtype\": \"string\",\n        \"num_unique_values\": 10,\n        \"samples\": [\n          \"The challenges of restoring biodiversity in depleted ecosystems\",\n          \"The role of artificial intelligence in education\",\n          \"The impact of climate migration on global stability\"\n        ],\n        \"semantic_type\": \"\",\n        \"description\": \"\"\n      }\n    },\n    {\n      \"column\": \"essays\",\n      \"properties\": {\n        \"dtype\": \"string\",\n        \"num_unique_values\": 10,\n        \"samples\": [\n          \"Restoring biodiversity to depleted ecosystems is a task that can seem almost insurmountable when one considers all the moving parts involved. There's so many little critters and plants that need to be brought back into balance, like some delicate dance where everyone has their part but getting them all to move in harmony is harder than it looks. And then there are the invasive species, oh my gosh the invasive species, they're like the drunk uncle at Thanksgiving who shows up uninvited and makes everything awkward. And the human element too, we have to take care of ourselves while also making sure we don't accidentally step on some rare flower or disturb an important insect nest. It's exhausting, really, trying to juggle all these different elements and still keep your sanity. But every once in a while you catch a glimpse of what success might look like - maybe a butterfly lands gently on a newly planted flower, or a bird sings a song that seems familiar from long ago. And those moments make\",\n          \"So uh yeah, like AI in eduction right? I mean, think about it for a moment will you? Like, imagine all these algorithms and robots taking over our schools, our colleges even, replacing teachers with some sort of digital overlords. But wait, that's not really what's happening now is it? It's more like these cool tools helping out, ya know? Giving feedback, suggesting improvements, making learning so much more personalized. And let me tell you, personalization is where it's at man! No more one size fits all approaches here. We're talking adaptive quizzes, customized lesson plans, and oh my god the data they can crunch! Imagine being able to track every single student\\u2019s progress in real time, identify struggling areas, and intervene early. That sounds pretty sweet right? So yeah, AI isn't exactly here to take jobs away but rather make them better, help educators focus more on teaching than grading papers all day long. Who doesn't want less paperwork and\",\n          \"Climate migration is a big deal folks, really it is. It's like when your friend moves away to college but imagine millions doing that at once. You know how when someone moves out they take their stuff with them? Well now we're talking about whole communities packing up tents and suitcases, leaving behind their homes because the weather got all weird. I mean seriously, who would have thought the sky could be so unpredictable? And it\\u2019s not just people moving either, animals are doing it too! Can you picture herds of wildebeest running across new plains looking for greener grass? That's wild!\\nBut here's where things get tricky - what happens when everyone heads towards one area? It\\u2019s like every kid trying to sit next to the coolest person at lunchtime. Except instead of sharing snacks there might be fights over water and food. Countries start to worry and build walls taller than giants. What was once an open invitation turns into a border dispute. So while some places dry\"\n        ],\n        \"semantic_type\": \"\",\n        \"description\": \"\"\n      }\n    },\n    {\n      \"column\": \"generated_scores\",\n      \"properties\": {\n        \"dtype\": \"category\",\n        \"num_unique_values\": 3,\n        \"samples\": [\n          \"7\",\n          \"4\",\n          \"5\"\n        ],\n        \"semantic_type\": \"\",\n        \"description\": \"\"\n      }\n    }\n  ]\n}"
            }
          },
          "metadata": {},
          "execution_count": 13
        }
      ]
    },
    {
      "cell_type": "code",
      "source": [
        "import matplotlib.pyplot as plt\n",
        "\n",
        "plt.figure(figsize=(10, 6))\n",
        "df[\"generated_scores\"] = pd.to_numeric(df[\"generated_scores\"], errors=\"coerce\")\n",
        "df[\"generated_scores\"].dropna().astype(int).plot(kind=\"hist\", bins=10, rwidth=0.8)\n",
        "plt.title(\"Distribution of Generated Essay Scores\")\n",
        "plt.xlabel(\"Score (0-9)\")\n",
        "plt.ylabel(\"Frequency\")\n",
        "plt.grid()\n",
        "plt.show()"
      ],
      "metadata": {
        "colab": {
          "base_uri": "https://localhost:8080/",
          "height": 564
        },
        "id": "XUTr7tMvQZgN",
        "outputId": "7e77a7e2-ef39-49ee-fa8d-18bf8452e2a4"
      },
      "execution_count": null,
      "outputs": [
        {
          "output_type": "display_data",
          "data": {
            "text/plain": [
              "<Figure size 1000x600 with 1 Axes>"
            ],
            "image/png": "[encoded data removed]"
          },
          "metadata": {}
        }
      ]
    }
  ]
}